{
 "cells": [
  {
   "cell_type": "code",
   "execution_count": null,
   "metadata": {},
   "outputs": [],
   "source": [
    "import matplotlib.pyplot as plt\n",
    "import random\n",
    "%matplotlib widget\n",
    "from ImageLoader import load_image\n",
    "from ImageLoader import get_filepaths\n",
    "from ImageLoader import save_npys\n",
    "from ImageLoader import load_mmaps\n",
    "from ImageSlicer import get_random_slice\n",
    "from time import sleep\n",
    "from torch import tensor\n",
    "import torch\n",
    "import numpy as np\n",
    "hubble_paths = get_filepaths(\"HubbleImages\")\n",
    "webb_paths = get_filepaths(\"WebbImages/MIRI/\") + get_filepaths(\"WebbImages/NIRCam and MIRI Composite/\")+ get_filepaths(\"WebbImages/NIRCam/\")"
   ]
  },
  {
   "cell_type": "code",
   "execution_count": null,
   "metadata": {},
   "outputs": [],
   "source": [
    "bad1 = load_image(hubble_paths[59])\n",
    "print(hubble_paths[59])\n",
    "print(bad1.shape)\n",
    "# bad1 = (bad1/65535) * 255\n",
    "print(bad1.max())\n",
    "print(bad1.min())\n",
    "print(bad1.dtype)\n",
    "fig, ax = plt.subplots()\n",
    "ax.imshow(bad1.astype('float32')/65535)"
   ]
  },
  {
   "cell_type": "code",
   "execution_count": null,
   "metadata": {},
   "outputs": [],
   "source": [
    "fig, ax = plt.subplots()\n",
    "ax.imshow(((bad1.astype('float32')/65535) * 255).astype('uint8'))"
   ]
  },
  {
   "cell_type": "code",
   "execution_count": null,
   "metadata": {},
   "outputs": [],
   "source": [
    "save_npys(hubble_paths, \"HubbleArrs/hubble\")\n",
    "save_npys(webb_paths, \"WebbArrs/webb\")"
   ]
  },
  {
   "cell_type": "code",
   "execution_count": null,
   "metadata": {},
   "outputs": [],
   "source": [
    "hubble_maps = load_mmaps(\"HubbleArrs/hubble\")\n",
    "webb_maps = load_mmaps(\"WebbArrs/webb\")"
   ]
  },
  {
   "cell_type": "code",
   "execution_count": 17,
   "metadata": {},
   "outputs": [],
   "source": [
    "dtype = torch.cuda.FloatTensor"
   ]
  },
  {
   "cell_type": "code",
   "execution_count": null,
   "metadata": {},
   "outputs": [],
   "source": [
    "print(len(hubble_maps))\n",
    "print(len(webb_maps))\n",
    "\n",
    "print(hubble_maps[0].shape)\n",
    "print(webb_maps[0].shape)"
   ]
  },
  {
   "cell_type": "code",
   "execution_count": 19,
   "metadata": {},
   "outputs": [
    {
     "name": "stdout",
     "output_type": "stream",
     "text": [
      "4.54 ms ± 672 µs per loop (mean ± std. dev. of 7 runs, 100 loops each)\n"
     ]
    }
   ],
   "source": [
    "%%timeit\n",
    "tensor(get_random_slice(100, 1000, random.choice(hubble_maps))).type(dtype)"
   ]
  },
  {
   "cell_type": "code",
   "execution_count": 22,
   "metadata": {},
   "outputs": [
    {
     "name": "stdout",
     "output_type": "stream",
     "text": [
      "9.56 µs ± 506 ns per loop (mean ± std. dev. of 7 runs, 100,000 loops each)\n"
     ]
    }
   ],
   "source": [
    "%%timeit\n",
    "get_random_slice(100, 1000, random.choice(hubble_maps))"
   ]
  },
  {
   "cell_type": "code",
   "execution_count": null,
   "metadata": {},
   "outputs": [],
   "source": [
    "fig, ax = plt.subplots()\n",
    "ax.imshow(get_random_slice(100, 1000, random.choice(hubble_maps)))"
   ]
  },
  {
   "cell_type": "code",
   "execution_count": null,
   "metadata": {},
   "outputs": [],
   "source": []
  }
 ],
 "metadata": {
  "kernelspec": {
   "display_name": "Python 3.8.13 ('week4')",
   "language": "python",
   "name": "python3"
  },
  "language_info": {
   "codemirror_mode": {
    "name": "ipython",
    "version": 3
   },
   "file_extension": ".py",
   "mimetype": "text/x-python",
   "name": "python",
   "nbconvert_exporter": "python",
   "pygments_lexer": "ipython3",
   "version": "3.8.13"
  },
  "orig_nbformat": 4,
  "vscode": {
   "interpreter": {
    "hash": "3a1a4e0166b37dbc9ccb1e44b628be4d9cd3c6096178666d89ab3e11319045c0"
   }
  }
 },
 "nbformat": 4,
 "nbformat_minor": 2
}
