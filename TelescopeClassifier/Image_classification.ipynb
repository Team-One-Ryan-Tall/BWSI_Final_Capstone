{
 "cells": [
  {
   "cell_type": "code",
   "execution_count": null,
   "id": "6cbc9dc9",
   "metadata": {},
   "outputs": [],
   "source": [
    "%matplotlib notebook"
   ]
  },
  {
   "cell_type": "code",
   "execution_count": null,
   "id": "edb5f960",
   "metadata": {},
   "outputs": [],
   "source": [
    "from noggin import create_plot\n",
    " \n",
    "plotter, fig, ax = create_plot(metrics=[\"loss\", \"accuracy\"])\n",
    "ax[0].set_ylim(0, 3);"
   ]
  },
  {
   "cell_type": "code",
   "execution_count": null,
   "id": "1dbf31ca",
   "metadata": {},
   "outputs": [],
   "source": [
    "from Model import Model\n",
    "from Model import accuracy\n",
    "from Model import train_model\n",
    "import torch\n",
    "from ImageLoader import load_mmaps\n",
    "from Data import get_dataset\n",
    "\n",
    "\n",
    "# initialize the optimizer\n",
    "device = ('cuda' if torch.cuda.is_available() else 'cpu')\n",
    "maps = [load_mmaps(\"HubbleArrs/hubble\"), load_mmaps(\"WebbArrs/webb\")]\n",
    "# train_data, test_data, X, Y = get_dataset(1000, maps, device)\n",
    "model =  Model().to(device)\n",
    "optim = torch.optim.Adam(model.parameters(), weight_decay=5E-3)"
   ]
  },
  {
   "cell_type": "code",
   "execution_count": null,
   "id": "ffc43660",
   "metadata": {},
   "outputs": [],
   "source": [
    "hyper_epochs = 20\n",
    "for i in range(hyper_epochs):\n",
    "    train_data, test_data, X, Y, = get_dataset(200, maps, device)\n",
    "    train_model(model, train_data, test_data, X, Y, optim, epochs=8, batch_size=20, plotter=plotter)"
   ]
  }
 ],
 "metadata": {
  "kernelspec": {
   "display_name": "Python 3 (ipykernel)",
   "language": "python",
   "name": "python3"
  },
  "language_info": {
   "codemirror_mode": {
    "name": "ipython",
    "version": 3
   },
   "file_extension": ".py",
   "mimetype": "text/x-python",
   "name": "python",
   "nbconvert_exporter": "python",
   "pygments_lexer": "ipython3",
   "version": "3.8.13"
  },
  "vscode": {
   "interpreter": {
    "hash": "3a1a4e0166b37dbc9ccb1e44b628be4d9cd3c6096178666d89ab3e11319045c0"
   }
  }
 },
 "nbformat": 4,
 "nbformat_minor": 5
}
